{
  "nbformat": 4,
  "nbformat_minor": 0,
  "metadata": {
    "colab": {
      "provenance": []
    },
    "kernelspec": {
      "name": "python3",
      "display_name": "Python 3"
    },
    "language_info": {
      "name": "python"
    }
  },
  "cells": [
    {
      "cell_type": "markdown",
      "source": [
        "## Problem\n",
        "\n",
        "Build [SSVQE's cost function](https://learn.qiskit.org/course/algorithm-design/instances#instances-4-0) using the following observable:\n",
        "\n",
        "$$\n",
        "O = 2II-2XX+3YY-3ZZ\n",
        "$$\n",
        "\n",
        "This cost function should take in parameters as an input. Use the included variational form, with reference states $\\{|00\\rangle, |01\\rangle, |10\\rangle, |11\\rangle\\}$ and weights $w_{00}=50, w_{01}=40, w_{10}= 30, w_{11}=20$."
      ],
      "metadata": {
        "id": "bwo8-llcFugv"
      }
    },
    {
      "cell_type": "code",
      "execution_count": null,
      "metadata": {
        "id": "R1c1PSrxCv8k"
      },
      "outputs": [],
      "source": [
        "from qiskit import QuantumCircuit\n",
        "from qiskit.circuit.library import TwoLocal\n",
        "from qiskit.quantum_info import SparsePauliOp\n",
        "from qiskit.primitives import Estimator\n",
        "import numpy as np\n",
        "\n",
        "def cost_function(theta: list[float]) -> float:\n",
        "    # We've given the reference states here\n",
        "    reference_circuits = []\n",
        "    for i in range(2):\n",
        "        for j in range(2):\n",
        "            qc = QuantumCircuit(2)\n",
        "            if j == 1:\n",
        "                qc.x(0)\n",
        "            if i == 1:\n",
        "                qc.x(1)\n",
        "            reference_circuits.append(qc)\n",
        "\n",
        "    # Here's the variational form\n",
        "    variational_form = TwoLocal(2, rotation_blocks=['rz', 'ry'], entanglement_blocks='cx', entanglement='linear', reps=1)\n",
        "\n",
        "    # Start implementing the rest of SSVQE's cost function here, and observables\n",
        "    observable = SparsePauliOp.from_list([(\"II\", 2), (\"XX\", -2), (\"YY\", 3), (\"ZZ\", -3)])\n",
        "\n",
        "    values=[]\n",
        "    weights=[50,40,30,20]\n",
        "    for reference_circuit in reference_circuits:\n",
        "        ansatz = reference_circuit.compose(variational_form)\n",
        "        # Use estimator to get the expected values corresponding to each ansatz\n",
        "        estimator = Estimator()\n",
        "        job = estimator.run(ansatz, observable, theta)\n",
        "        values.append(job.result().values[0])\n",
        "\n",
        "    return np.dot(values,weights)\n",
        "\n"
      ]
    },
    {
      "cell_type": "markdown",
      "source": [
        "After you have your `cost_function`, use a classical optimizer to calculate the optimal parameters and eigenvalues for the several ansatze."
      ],
      "metadata": {
        "id": "JdgwOsIJF-MK"
      }
    },
    {
      "cell_type": "code",
      "source": [
        "from qiskit.algorithms.optimizers import COBYLA\n",
        "from qiskit.circuit.library import TwoLocal\n",
        "from qiskit.quantum_info import SparsePauliOp\n",
        "from qiskit.primitives import Estimator\n",
        "import numpy as np\n",
        "\n",
        "# Optimizing the parameters\n",
        "initial_theta = np.ones(8)\n",
        "optimizer = COBYLA()\n",
        "optimizer_result = optimizer.minimize(fun=cost_function, x0=initial_theta)\n",
        "optimal_parameters = optimizer_result.x\n",
        "\n",
        "\n",
        "# Running the optimized circuit to get the eigenvalues\n",
        "reference_circuits = []\n",
        "for i in range(2):\n",
        "    for j in range(2):\n",
        "        qc = QuantumCircuit(2)\n",
        "        if j == 1:\n",
        "            qc.x(0)\n",
        "        if i == 1:\n",
        "            qc.x(1)\n",
        "        reference_circuits.append(qc)\n",
        "\n",
        "# Here's the variational form\n",
        "variational_form = TwoLocal(2, rotation_blocks=['rz', 'ry'], entanglement_blocks='cx', entanglement='linear', reps=1)\n",
        "\n",
        "# Start implementing the rest of SSVQE's cost function here, and observables\n",
        "observable = SparsePauliOp.from_list([(\"II\", 2), (\"XX\", -2), (\"YY\", 3), (\"ZZ\", -3)])\n",
        "\n",
        "eigenvalues=[]\n",
        "#weights=[50,40,30,20]\n",
        "for reference_circuit in reference_circuits:\n",
        "    ansatz = reference_circuit.compose(variational_form)\n",
        "    solution = ansatz.bind_parameters(optimal_parameters)\n",
        "    # Use estimator to get the expected values corresponding to each ansatz\n",
        "    estimator = Estimator()\n",
        "    job = estimator.run(solution, observable)\n",
        "    eigenvalues.append(job.result().values[0])\n",
        "\n",
        "print(eigenvalues)"
      ],
      "metadata": {
        "id": "LGk6yhsNFlYt"
      },
      "execution_count": null,
      "outputs": []
    }
  ]
}